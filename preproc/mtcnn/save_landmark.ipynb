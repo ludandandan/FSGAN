{
 "cells": [
  {
   "cell_type": "code",
   "execution_count": 4,
   "metadata": {},
   "outputs": [],
   "source": [
    "import os\n",
    "from src import detect_faces, show_bboxes\n",
    "from PIL import Image\n",
    "\n",
    "\n",
    "root_path = '../train/photo'\n",
    "image_paths = sorted([os.path.join(root_path, p) for p in os.listdir(root_path)])"
   ]
  },
  {
   "cell_type": "code",
   "execution_count": null,
   "metadata": {},
   "outputs": [],
   "source": [
    "import numpy as np\n",
    "from scipy.io import savemat\n",
    "os.makedirs(\n",
    "    '/'.join(image_paths[0].replace('\\\\', '/').replace('/photo/', '/landmark/').split('/')[:-1]),\n",
    "    exist_ok=True\n",
    ")\n",
    "for idx_image_path, image_path in enumerate(image_paths):\n",
    "    print('{} / {}'.format(idx_image_path+1, len(image_paths)), image_path)\n",
    "    img = Image.open(image_path).resize((512, 512), Image.BICUBIC)\n",
    "    bounding_boxes, landmarks = detect_faces(img, min_face_size=10.0)\n",
    "    show_bboxes(img, bounding_boxes, landmarks)\n",
    "    landmarks = landmarks[0]\n",
    "    facial5point = []\n",
    "    for idx_ld in range(5):\n",
    "        facial5point.append([landmarks[idx_ld], landmarks[idx_ld+5]])\n",
    "    np.savetxt(image_path.replace(image_path[-4:], '.txt').replace('\\\\', '/').replace('/photo/', '/landmark/'), facial5point)"
   ]
  }
 ],
 "metadata": {
  "kernelspec": {
   "display_name": "Python 3",
   "language": "python",
   "name": "python3"
  },
  "language_info": {
   "codemirror_mode": {
    "name": "ipython",
    "version": 3
   },
   "file_extension": ".py",
   "mimetype": "text/x-python",
   "name": "python",
   "nbconvert_exporter": "python",
   "pygments_lexer": "ipython3",
   "version": "3.7.10"
  }
 },
 "nbformat": 4,
 "nbformat_minor": 2
}
